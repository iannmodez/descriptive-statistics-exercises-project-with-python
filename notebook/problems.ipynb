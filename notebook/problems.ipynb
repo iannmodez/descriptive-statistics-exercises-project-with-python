{
    "cells": [
        {
            "cell_type": "markdown",
            "id": "ac622319",
            "metadata": {},
            "source": [
                "# Descriptive statistics problems"
            ]
        },
        {
            "cell_type": "markdown",
            "id": "aa8993e4",
            "metadata": {},
            "source": [
                "### Exercise 1"
            ]
        },
        {
            "cell_type": "markdown",
            "id": "5e0ab0d5",
            "metadata": {},
            "source": [
                "We will use Numpy to obtain information to describe statistically.\n",
                "\n",
                "- Generate an array of 100 elements following a normal distribution.\n",
                "- Generate an array of 100 elements following a chi-square distribution with 3 degrees of freedom.\n",
                "- Calculate the main metrics and statistical measures that best describe the two vectors."
            ]
        },
        {
            "cell_type": "code",
            "execution_count": 10,
            "id": "34720ab6",
            "metadata": {},
            "outputs": [
                {
                    "name": "stdout",
                    "output_type": "stream",
                    "text": [
                        "la media de la primera distribución es 0.06672609739402334 y la media de la segunda distribucion es 3.2395013997414503\n",
                        "la mediana de la primera distribución es 0.061570962656325987 y la mediana de la segunda es 2.5252420913848486\n",
                        "la desviación estándar de la primera distribución es 1.0607663124473332 y la desviación estándar de la segunda es 2.680984857950397\n",
                        "el rango de la primera distribución es 5.427377660707156 y el rango de la segunda es 11.261176411591531\n",
                        "la varianza de la primera distribución es 1.1252251696231133 y la varianza de la segunda es 7.18767980855931\n"
                    ]
                }
            ],
            "source": [
                "# TODO\n",
                "import numpy as np\n",
                "\n",
                "\n",
                "a1 = np.random.normal(0, 1, 100)\n",
                "a2 = np.random.chisquare(3, 100)\n",
                "\n",
                "media1 = a1.mean()\n",
                "media2 = a2.mean()\n",
                "\n",
                "mediana1 = np.median(a1)\n",
                "mediana2 = np.median(a2)\n",
                "\n",
                "desviacion1 = np.std(a1)\n",
                "desviacion2 = np.std(a2) \n",
                "\n",
                "rango1 = max(a1) - min(a1)\n",
                "rango2 = max(a2) - min(a2)\n",
                "\n",
                "varianza1 = np.var(a1)\n",
                "varianza2 = np.var(a2)\n",
                "\n",
                "print(f\"la media de la primera distribución es {media1} y la media de la segunda distribucion es {media2}\")\n",
                "print(f\"la mediana de la primera distribución es {mediana1} y la mediana de la segunda es {mediana2}\")\n",
                "print(f\"la desviación estándar de la primera distribución es {desviacion1} y la desviación estándar de la segunda es {desviacion2}\")\n",
                "print(f\"el rango de la primera distribución es {rango1} y el rango de la segunda es {rango2}\")\n",
                "print(f\"la varianza de la primera distribución es {varianza1} y la varianza de la segunda es {varianza2}\")\n",
                "\n",
                "\n",
                "\n"
            ]
        },
        {
            "cell_type": "markdown",
            "id": "46c70c3d",
            "metadata": {},
            "source": [
                "### Exercise 2\n",
                "\n",
                "Write a Python program to calculate the standard deviation of the following data:\n",
                "\n",
                "```py\n",
                "data = [4, 2, 5, 8, 6]\n",
                "```"
            ]
        },
        {
            "cell_type": "code",
            "execution_count": 2,
            "id": "d590308e",
            "metadata": {},
            "outputs": [
                {
                    "data": {
                        "text/plain": [
                            "2.0"
                        ]
                    },
                    "execution_count": 2,
                    "metadata": {},
                    "output_type": "execute_result"
                }
            ],
            "source": [
                "# TODO\n",
                "import numpy as np\n",
                "x = np.array([4, 2, 5, 8, 6])\n",
                "\n",
                "def standar_dev(x):\n",
                "    media = np.mean(x)\n",
                "    final = 0\n",
                "    n = len(x)\n",
                "    for i in x:\n",
                "        final += ((i-media)**2)\n",
                "    return np.sqrt(final/n)\n",
                "\n",
                "standar_dev(x)\n"
            ]
        }
    ],
    "metadata": {
        "interpreter": {
            "hash": "9248718ffe6ce6938b217e69dbcc175ea21f4c6b28a317e96c05334edae734bb"
        },
        "kernelspec": {
            "display_name": "Python 3.9.12 ('ML-BOOTCAMP')",
            "language": "python",
            "name": "python3"
        },
        "language_info": {
            "codemirror_mode": {
                "name": "ipython",
                "version": 3
            },
            "file_extension": ".py",
            "mimetype": "text/x-python",
            "name": "python",
            "nbconvert_exporter": "python",
            "pygments_lexer": "ipython3",
            "version": "3.11.4"
        }
    },
    "nbformat": 4,
    "nbformat_minor": 5
}
